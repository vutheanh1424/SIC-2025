{
  "cells": [
    {
      "cell_type": "markdown",
      "metadata": {
        "id": "9Ueik-EGs4UM"
      },
      "source": [
        "## Coding Exercise #0601"
      ]
    },
    {
      "cell_type": "markdown",
      "metadata": {
        "id": "tChOldK2s4UO"
      },
      "source": [
        "### 1. TensorFlow basics:"
      ]
    },
    {
      "cell_type": "code",
      "execution_count": null,
      "metadata": {
        "id": "LXhYzJbUs4UO"
      },
      "outputs": [],
      "source": [
        "# Install once.\n",
        "# !pip install tensorflow\n",
        "# OR\n",
        "# !pip install --user tensorflow-gpu"
      ]
    },
    {
      "cell_type": "code",
      "execution_count": null,
      "metadata": {
        "id": "A1JMHSBMs4UP"
      },
      "outputs": [],
      "source": [
        "# !pip install tensorflow"
      ]
    },
    {
      "cell_type": "code",
      "execution_count": 1,
      "metadata": {
        "id": "m-KK_jj1s4UP"
      },
      "outputs": [],
      "source": [
        "import tensorflow as tf\n",
        "import numpy as np"
      ]
    },
    {
      "cell_type": "code",
      "execution_count": 2,
      "metadata": {
        "id": "FkWUJwazs4UQ",
        "outputId": "bf839dbe-f724-452a-c9bf-19c0e12e9e36",
        "colab": {
          "base_uri": "https://localhost:8080/",
          "height": 36
        }
      },
      "outputs": [
        {
          "output_type": "execute_result",
          "data": {
            "text/plain": [
              "'2.18.0'"
            ],
            "application/vnd.google.colaboratory.intrinsic+json": {
              "type": "string"
            }
          },
          "metadata": {},
          "execution_count": 2
        }
      ],
      "source": [
        "tf.__version__"
      ]
    },
    {
      "cell_type": "markdown",
      "metadata": {
        "id": "zJUd0PPUs4UQ"
      },
      "source": [
        "#### 1.1. Hello World!"
      ]
    },
    {
      "cell_type": "code",
      "execution_count": 3,
      "metadata": {
        "id": "TUbRamjgs4UR"
      },
      "outputs": [],
      "source": [
        "hello = tf.constant(\"Hello World!\")"
      ]
    },
    {
      "cell_type": "code",
      "execution_count": 4,
      "metadata": {
        "id": "pSIrecUfs4UR",
        "outputId": "92f14c37-b60d-4796-c979-1bfaa1321064",
        "colab": {
          "base_uri": "https://localhost:8080/"
        }
      },
      "outputs": [
        {
          "output_type": "execute_result",
          "data": {
            "text/plain": [
              "<tf.Tensor: shape=(), dtype=string, numpy=b'Hello World!'>"
            ]
          },
          "metadata": {},
          "execution_count": 4
        }
      ],
      "source": [
        "hello"
      ]
    },
    {
      "cell_type": "markdown",
      "metadata": {
        "id": "27Y8ml1Bs4UR"
      },
      "source": [
        "#### 1.2. Creating tensors:"
      ]
    },
    {
      "cell_type": "code",
      "execution_count": 5,
      "metadata": {
        "id": "zks3PXE9s4UR"
      },
      "outputs": [],
      "source": [
        "hello = tf.constant(\"Hello World!\")                         # String.\n",
        "const_scalar = tf.constant(7)                               # A scalar tensor.\n",
        "const_matrix = tf.constant([[1,2], [3,4]])                  # A matrix tensor.\n",
        "mat_fill = tf.fill((4,4),9)                                 # A 4x4 tensor filled with 9s.\n",
        "mat_zeros = tf.zeros((3,3))                                 # A 3x3 tensor filled with 0s.\n",
        "mat_ones = tf.ones((5,5))                                   # A 5x5 tensor filled with 1s.\n",
        "mat_randn = tf.random.normal((3,3), mean=0, stddev=1.0)     # 3x3 random normal tensor.\n",
        "mat_randu = tf.random.uniform((4,4), minval=0, maxval=1.0)  # 4x4 random uniform tensor."
      ]
    },
    {
      "cell_type": "code",
      "execution_count": 6,
      "metadata": {
        "id": "eFBCFnnys4US",
        "outputId": "2b5cc1a3-813b-4d24-865a-d67eee3be7f6",
        "colab": {
          "base_uri": "https://localhost:8080/"
        }
      },
      "outputs": [
        {
          "output_type": "stream",
          "name": "stdout",
          "text": [
            "<class 'tensorflow.python.framework.ops.EagerTensor'>\n",
            "\n",
            "\n",
            "tf.Tensor(b'Hello World!', shape=(), dtype=string)\n",
            "\n",
            "\n",
            "<class 'tensorflow.python.framework.ops.EagerTensor'>\n",
            "\n",
            "\n",
            "tf.Tensor(7, shape=(), dtype=int32)\n",
            "\n",
            "\n",
            "<class 'tensorflow.python.framework.ops.EagerTensor'>\n",
            "\n",
            "\n",
            "tf.Tensor(\n",
            "[[1 2]\n",
            " [3 4]], shape=(2, 2), dtype=int32)\n",
            "\n",
            "\n",
            "<class 'tensorflow.python.framework.ops.EagerTensor'>\n",
            "\n",
            "\n",
            "tf.Tensor(\n",
            "[[9 9 9 9]\n",
            " [9 9 9 9]\n",
            " [9 9 9 9]\n",
            " [9 9 9 9]], shape=(4, 4), dtype=int32)\n",
            "\n",
            "\n",
            "<class 'tensorflow.python.framework.ops.EagerTensor'>\n",
            "\n",
            "\n",
            "tf.Tensor(\n",
            "[[0. 0. 0.]\n",
            " [0. 0. 0.]\n",
            " [0. 0. 0.]], shape=(3, 3), dtype=float32)\n",
            "\n",
            "\n",
            "<class 'tensorflow.python.framework.ops.EagerTensor'>\n",
            "\n",
            "\n",
            "tf.Tensor(\n",
            "[[1. 1. 1. 1. 1.]\n",
            " [1. 1. 1. 1. 1.]\n",
            " [1. 1. 1. 1. 1.]\n",
            " [1. 1. 1. 1. 1.]\n",
            " [1. 1. 1. 1. 1.]], shape=(5, 5), dtype=float32)\n",
            "\n",
            "\n",
            "<class 'tensorflow.python.framework.ops.EagerTensor'>\n",
            "\n",
            "\n",
            "tf.Tensor(\n",
            "[[ 0.4242319  -0.87307644  0.18317905]\n",
            " [-0.8673792  -0.87239665  0.68769056]\n",
            " [-0.47040242  0.63626105 -2.0464458 ]], shape=(3, 3), dtype=float32)\n",
            "\n",
            "\n",
            "<class 'tensorflow.python.framework.ops.EagerTensor'>\n",
            "\n",
            "\n",
            "tf.Tensor(\n",
            "[[0.47400856 0.96953785 0.6539693  0.74169004]\n",
            " [0.46637523 0.07538521 0.24883306 0.59540987]\n",
            " [0.6685388  0.5902672  0.9854858  0.5869597 ]\n",
            " [0.8470396  0.20758653 0.8722911  0.6962292 ]], shape=(4, 4), dtype=float32)\n",
            "\n",
            "\n"
          ]
        }
      ],
      "source": [
        "my_ops=[hello, const_scalar, const_matrix, mat_fill, mat_zeros, mat_ones, mat_randn, mat_randu]\n",
        "for op in my_ops:\n",
        "    print(type(op))\n",
        "    print('\\n')\n",
        "    print(op)\n",
        "    print('\\n')"
      ]
    },
    {
      "cell_type": "markdown",
      "metadata": {
        "id": "u7S9vCvCs4US"
      },
      "source": [
        "#### 1.3. Math operations:"
      ]
    },
    {
      "cell_type": "code",
      "execution_count": 7,
      "metadata": {
        "id": "czohi_Irs4US"
      },
      "outputs": [],
      "source": [
        "n1 = tf.constant(2)\n",
        "n2 = tf.constant(3)\n",
        "n3 = n1* n2"
      ]
    },
    {
      "cell_type": "code",
      "execution_count": 8,
      "metadata": {
        "id": "GEyuMBuks4US",
        "outputId": "2a58e37a-f4e2-4d63-8302-976eeb20dc43",
        "colab": {
          "base_uri": "https://localhost:8080/"
        }
      },
      "outputs": [
        {
          "output_type": "stream",
          "name": "stdout",
          "text": [
            "tf.Tensor(6, shape=(), dtype=int32)\n"
          ]
        }
      ],
      "source": [
        "print(n3)"
      ]
    },
    {
      "cell_type": "code",
      "execution_count": 9,
      "metadata": {
        "id": "HpffSTgUs4UT",
        "outputId": "a1b9c8c4-a901-4530-cfce-6117797842cb",
        "colab": {
          "base_uri": "https://localhost:8080/"
        }
      },
      "outputs": [
        {
          "output_type": "stream",
          "name": "stdout",
          "text": [
            "tf.Tensor(9, shape=(), dtype=int32)\n"
          ]
        }
      ],
      "source": [
        "n1 = tf.constant(4)\n",
        "n2 = tf.constant(5)\n",
        "n3 = tf.add(n1,n2)\n",
        "print(n3)"
      ]
    },
    {
      "cell_type": "code",
      "execution_count": 10,
      "metadata": {
        "id": "VS1Yr34Ys4UT",
        "outputId": "710beb35-a0f2-4892-f5cf-747b152bde33",
        "colab": {
          "base_uri": "https://localhost:8080/"
        }
      },
      "outputs": [
        {
          "output_type": "stream",
          "name": "stdout",
          "text": [
            "tf.Tensor(20, shape=(), dtype=int32)\n"
          ]
        }
      ],
      "source": [
        "n1 = tf.constant(4)\n",
        "n2 = tf.constant(5)\n",
        "n3 = tf.multiply(n1,n2)\n",
        "print(n3)"
      ]
    },
    {
      "cell_type": "code",
      "execution_count": 11,
      "metadata": {
        "id": "JPse0uo5s4UT",
        "outputId": "7cced97c-4a4d-46ac-c335-5268c3acc405",
        "colab": {
          "base_uri": "https://localhost:8080/"
        }
      },
      "outputs": [
        {
          "output_type": "stream",
          "name": "stdout",
          "text": [
            "tf.Tensor(8, shape=(), dtype=int32)\n"
          ]
        }
      ],
      "source": [
        "n1 = tf.constant(2)\n",
        "n2 = tf.constant(3)\n",
        "n3 = tf.pow(n1,n2)\n",
        "print(n3)"
      ]
    },
    {
      "cell_type": "markdown",
      "metadata": {
        "id": "csnsgDfes4UT"
      },
      "source": [
        "#### 1.4. Matrix functions and operations:"
      ]
    },
    {
      "cell_type": "code",
      "execution_count": 12,
      "metadata": {
        "id": "EChPA87Xs4UT",
        "outputId": "b62c74cd-8b30-4163-8ef7-ed72b9c873b2",
        "colab": {
          "base_uri": "https://localhost:8080/"
        }
      },
      "outputs": [
        {
          "output_type": "stream",
          "name": "stdout",
          "text": [
            "tf.Tensor(\n",
            "[[ 5]\n",
            " [11]], shape=(2, 1), dtype=int32)\n"
          ]
        }
      ],
      "source": [
        "m1 = tf.constant([[1,2], [3,4]])\n",
        "m2 = tf.constant([[1], [2]])\n",
        "m3 = tf.matmul(m1, m2)                            # Matrix multiplication. Different from the element-wise multiplication with multiply().\n",
        "print(m3)"
      ]
    },
    {
      "cell_type": "code",
      "execution_count": 13,
      "metadata": {
        "id": "hYtf-cCTs4UU",
        "outputId": "2796b73f-3617-4b68-df20-8c7bd4eac50d",
        "colab": {
          "base_uri": "https://localhost:8080/"
        }
      },
      "outputs": [
        {
          "output_type": "stream",
          "name": "stdout",
          "text": [
            "tf.Tensor(\n",
            "[[19 22]\n",
            " [43 50]], shape=(2, 2), dtype=int32)\n"
          ]
        }
      ],
      "source": [
        "m1 = tf.constant([[1,2], [3,4]])\n",
        "m2 = tf.constant([[5, 6], [7, 8]])\n",
        "m3 = tf.matmul(m1, m2)\n",
        "print(m3)"
      ]
    },
    {
      "cell_type": "code",
      "execution_count": 14,
      "metadata": {
        "id": "stmtehEFs4UU",
        "outputId": "577f411d-396b-4c61-b10c-981ab1db4820",
        "colab": {
          "base_uri": "https://localhost:8080/"
        }
      },
      "outputs": [
        {
          "output_type": "stream",
          "name": "stdout",
          "text": [
            "tf.Tensor(\n",
            "[[ 5 12]\n",
            " [21 32]], shape=(2, 2), dtype=int32)\n"
          ]
        }
      ],
      "source": [
        "m3 = tf.multiply(m1, m2)\n",
        "print(m3)"
      ]
    },
    {
      "cell_type": "code",
      "execution_count": 15,
      "metadata": {
        "id": "LbnC6qDVs4UU",
        "outputId": "623a9343-e228-4862-8d8e-953550a05f18",
        "colab": {
          "base_uri": "https://localhost:8080/"
        }
      },
      "outputs": [
        {
          "output_type": "stream",
          "name": "stdout",
          "text": [
            "tf.Tensor(\n",
            "[[ 5 12]\n",
            " [21 32]], shape=(2, 2), dtype=int32)\n"
          ]
        }
      ],
      "source": [
        "m3 = m1*m2\n",
        "print(m3)"
      ]
    },
    {
      "cell_type": "code",
      "execution_count": 16,
      "metadata": {
        "id": "qaukB4hts4UU",
        "outputId": "2e6d9e15-c1aa-4ef3-aff6-103457f8db4e",
        "colab": {
          "base_uri": "https://localhost:8080/"
        }
      },
      "outputs": [
        {
          "output_type": "stream",
          "name": "stdout",
          "text": [
            "tf.Tensor(\n",
            "[[ 6  8]\n",
            " [10 12]], shape=(2, 2), dtype=int32)\n"
          ]
        }
      ],
      "source": [
        "m3 = m1 + m2\n",
        "print(m3)"
      ]
    },
    {
      "cell_type": "code",
      "execution_count": 17,
      "metadata": {
        "id": "mlc9KSZ-s4UU",
        "outputId": "dd80d513-be32-47f6-d424-32d12d3b4948",
        "colab": {
          "base_uri": "https://localhost:8080/"
        }
      },
      "outputs": [
        {
          "output_type": "stream",
          "name": "stdout",
          "text": [
            "tf.Tensor(\n",
            "[[-4 -4]\n",
            " [-4 -4]], shape=(2, 2), dtype=int32)\n"
          ]
        }
      ],
      "source": [
        "m3 = m1-m2\n",
        "print(m3)"
      ]
    },
    {
      "cell_type": "code",
      "execution_count": 18,
      "metadata": {
        "id": "TJqcHfFos4UU",
        "outputId": "cbcb6fe9-6d8c-4e52-df2a-c991757f214a",
        "colab": {
          "base_uri": "https://localhost:8080/"
        }
      },
      "outputs": [
        {
          "output_type": "stream",
          "name": "stdout",
          "text": [
            "[[0.2   0.333]\n",
            " [0.429 0.5  ]]\n"
          ]
        }
      ],
      "source": [
        "m3 = m1 / m2\n",
        "print(np.round(m3,3))"
      ]
    },
    {
      "cell_type": "code",
      "execution_count": 19,
      "metadata": {
        "id": "72Xurfx7s4UV",
        "outputId": "a790ffc8-923a-43d4-b101-4e67d05e0500",
        "colab": {
          "base_uri": "https://localhost:8080/"
        }
      },
      "outputs": [
        {
          "output_type": "stream",
          "name": "stdout",
          "text": [
            "[[1. 2.]\n",
            " [3. 4.]]\n",
            "\n",
            "\n",
            "[[1 0 0]\n",
            " [0 2 0]\n",
            " [0 0 3]]\n",
            "\n",
            "\n",
            "[[1. 3.]\n",
            " [2. 4.]]\n",
            "\n",
            "\n",
            "[[-2.   1. ]\n",
            " [ 1.5 -0.5]]\n",
            "\n",
            "\n",
            "[[ 1.  0.]\n",
            " [-0.  1.]]\n",
            "\n",
            "\n",
            "-2.0\n",
            "\n",
            "\n"
          ]
        }
      ],
      "source": [
        "# Matrix functions.\n",
        "m = tf.constant([[1.0,2.0],[3.0,4.0]])\n",
        "m_diagonal = tf.linalg.diag([1,2,3])\n",
        "m_transpose = tf.linalg.matrix_transpose(m)\n",
        "m_inverse = tf.linalg.inv(m)\n",
        "m_multiplied = tf.matmul(m, m_inverse)\n",
        "m_determinant = tf.linalg.det(m)\n",
        "my_matrices = [m, m_diagonal, m_transpose, m_inverse, m_multiplied, m_determinant]\n",
        "for mat in my_matrices:\n",
        "    print(np.round(mat,3))\n",
        "    print('\\n')"
      ]
    },
    {
      "cell_type": "markdown",
      "metadata": {
        "id": "WNAxWDebs4UV"
      },
      "source": [
        "#### 1.5. TensorFlow Variable:"
      ]
    },
    {
      "cell_type": "code",
      "execution_count": 20,
      "metadata": {
        "id": "XsBaxVBTs4UV",
        "outputId": "5764213a-0bb2-4ea6-d61c-c11a919d1a53",
        "colab": {
          "base_uri": "https://localhost:8080/"
        }
      },
      "outputs": [
        {
          "output_type": "stream",
          "name": "stdout",
          "text": [
            "tf.Tensor(-3, shape=(), dtype=int32)\n"
          ]
        }
      ],
      "source": [
        "# Initializing Variables #1\n",
        "x = tf.Variable(initial_value=5, name='x')       # Define.\n",
        "y = tf.Variable(initial_value=6, name='y')       # Define.\n",
        "f = (x - y)*y + 3                                # Define.\n",
        "print(f)"
      ]
    },
    {
      "cell_type": "code",
      "execution_count": null,
      "metadata": {
        "id": "Q8BtAYhts4UV"
      },
      "outputs": [],
      "source": []
    },
    {
      "cell_type": "code",
      "execution_count": 21,
      "metadata": {
        "id": "KIKopFJ0s4UV",
        "outputId": "4257d231-e936-4ee4-892f-13051ac3f6d5",
        "colab": {
          "base_uri": "https://localhost:8080/"
        }
      },
      "outputs": [
        {
          "output_type": "stream",
          "name": "stdout",
          "text": [
            "tf.Tensor(11, shape=(), dtype=int32)\n"
          ]
        }
      ],
      "source": [
        "# Initializing Variables #2\n",
        "x = tf.Variable(initial_value=3, name='x')       # Define.\n",
        "y = tf.Variable(initial_value=2, name='y')       # Define.\n",
        "f = x*y + y + 3                                  # Define.\n",
        "print(f)"
      ]
    }
  ],
  "metadata": {
    "kernelspec": {
      "display_name": "Python 3 (ipykernel)",
      "language": "python",
      "name": "python3"
    },
    "language_info": {
      "codemirror_mode": {
        "name": "ipython",
        "version": 3
      },
      "file_extension": ".py",
      "mimetype": "text/x-python",
      "name": "python",
      "nbconvert_exporter": "python",
      "pygments_lexer": "ipython3",
      "version": "3.10.11"
    },
    "colab": {
      "provenance": []
    }
  },
  "nbformat": 4,
  "nbformat_minor": 0
}